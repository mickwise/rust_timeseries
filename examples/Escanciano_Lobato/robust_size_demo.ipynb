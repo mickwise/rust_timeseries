{
 "cells": [
  {
   "cell_type": "markdown",
   "metadata": {},
   "source": [
    "# Heteroskedasticity-Robust Serial Correlation Test — Size Demo\n",
    "\n",
    "**Goal.** Show that under **conditional heteroskedasticity** (ARCH/GARCH) with *no true serial correlation*,  \n",
    "the classical **Ljung–Box** portmanteau test can be **mis-sized** (over-rejects at 5%),  \n",
    "while the **Escanciano–Lobato (heteroskedasticity-robust)** test maintains nominal size.\n",
    "\n",
    "---\n",
    "\n",
    "**Design (high level):**\n",
    "- Simulate a zero-mean **GARCH(1,1)** process: levels have no linear autocorrelation, but variance is time-varying.\n",
    "- For each replication, compute residuals (here just the simulated series) and test serial correlation with:\n",
    "  - **Ljung–Box (LB)** at α = 0.05\n",
    "  - **Escanciano–Lobato (EL)** robust test at α = 0.05\n",
    "- Repeat many times and estimate **empirical size** = rejection frequency under the true null.\n",
    "\n",
    "---\n",
    "\n",
    "**Output:**\n",
    "- A small table comparing empirical size (LB vs EL) at 5%.\n",
    "- A 5-bar figure visualizing the results (LB vs EL empirical size).\n",
    "\n",
    "---\n",
    "\n",
    "**Why this matters:**  \n",
    "Many pipelines apply LB on heteroskedastic residuals and trust the p-values.  \n",
    "This demo visualizes **why that’s unsafe** and when a **robust alternative** is needed."
   ]
  },
  {
   "cell_type": "markdown",
   "metadata": {},
   "source": [
    "### Simulation Setup\n",
    "\n",
    "We generate synthetic data under a GARCH(1,1) process.  \n",
    "This design ensures there is *no linear autocorrelation*, but the innovations are conditionally heteroskedastic.  \n",
    "\n",
    "If a test rejects too often under this null, it indicates that the test is not robust to heteroskedasticity."
   ]
  },
  {
   "cell_type": "code",
   "execution_count": 2,
   "metadata": {},
   "outputs": [],
   "source": [
    "import numpy as np\n",
    "import pandas as pd\n",
    "import matplotlib.pyplot as plt\n",
    "from statsmodels.stats.diagnostic import acorr_ljungbox\n",
    "from rust_timeseries.statistical_tests import EscancianoLobato\n",
    "\n",
    "def simulate_garch_1_1(n: int, seed: int, burnin: int = 200, omega: float = 1e-4, alpha_g: float = 0.05, beta_g: float = 0.90):\n",
    "    \"\"\"\n",
    "    Simulate x_t with zero mean and conditional variance following GARCH(1,1):\n",
    "        h_t = omega + alpha_g * u_{t-1}^2 + beta_g * h_{t-1}\n",
    "        u_t ~ N(0, h_t) conditioned on current information\n",
    "        x_t = u_t\n",
    "    Returns an array of length n (post-burn-in).\n",
    "    \"\"\"\n",
    "    rng = np.random.default_rng(seed)\n",
    "    normal = rng.standard_normal\n",
    "\n",
    "    T = n + burnin\n",
    "    x = np.zeros(T)\n",
    "    h = np.zeros(T)\n",
    "    u = np.zeros(T)\n",
    "\n",
    "    # Initialize variance at unconditional variance if stationary, else small positive\n",
    "    if alpha_g + beta_g < 1:\n",
    "        h0 = omega / (1 - alpha_g - beta_g)\n",
    "    else:\n",
    "        h0 = 1e-3\n",
    "    h[0] = h0\n",
    "    u[0] = np.sqrt(h[0]) * normal()\n",
    "    x[0] = u[0]\n",
    "\n",
    "    for t in range(1, T):\n",
    "        h[t] = omega + alpha_g * (u[t-1]**2) + beta_g * h[t-1]\n",
    "        u[t] = np.sqrt(h[t]) * normal()\n",
    "        x[t] = u[t]\n",
    "\n",
    "    return x[burnin:]"
   ]
  },
  {
   "cell_type": "markdown",
   "metadata": {},
   "source": [
    "### Running the Monte Carlo Experiment\n",
    "\n",
    "We replicate the process many times.  \n",
    "For each sample, we apply both the Escanciano–Lobato (EL) test and the Ljung–Box (LB) test, recording whether they reject the null of no serial correlation at the 5% level.\n",
    "Since the Ljung–Box test requires a predetermined lag number we run it with several different options and aggragate the results per option."
   ]
  },
  {
   "cell_type": "code",
   "execution_count": 3,
   "metadata": {},
   "outputs": [],
   "source": [
    "from joblib import Parallel, delayed\n",
    "def run_simulation(\n",
    "        n_rep: int = 50000,\n",
    "        n_obs: int = 10000,\n",
    "        alpha: float = 0.05,\n",
    "        base_seed: int | None = 42,\n",
    "        n_jobs: int = -1,\n",
    "    ) -> pd.DataFrame:\n",
    "    \"\"\"\n",
    "    Monte Carlo for empirical size under a GARCH(1,1) null.\n",
    "    Returns a DataFrame with columns: ['EL','LB(5)','LB(10)','LB(15)','LB(sqrt)'].\n",
    "    \"\"\"\n",
    "\n",
    "    # Generate seed sequence.\n",
    "    if base_seed is None:\n",
    "        seed_ints = np.random.SeedSequence().generate_state(n_rep)\n",
    "    else:\n",
    "        ss = np.random.SeedSequence(base_seed)\n",
    "        seed_ints = [int(s.generate_state(1)[0]) for s in ss.spawn(n_rep)]\n",
    "\n",
    "    lb_lag_grid = [5, 10, 15]\n",
    "    lb_sqrt = int(np.sqrt(n_obs))\n",
    "                  \n",
    "    def _one(seed):\n",
    "        x = simulate_garch_1_1(n_obs, seed)\n",
    "\n",
    "        # EL (auto-lag)\n",
    "        el_p: float = EscancianoLobato(x).pvalue\n",
    "        row = {'EL': int(el_p < alpha)}\n",
    "\n",
    "        # LB at conventional lags.\n",
    "        for m in lb_lag_grid:\n",
    "            p = acorr_ljungbox(x, lags=[m], return_df=True)['lb_pvalue'].iloc[-1]\n",
    "            row[f'LB({m})'] = int(p < alpha)\n",
    "        p = acorr_ljungbox(x, lags=lb_sqrt, return_df=True)['lb_pvalue'].iloc[-1]\n",
    "        row['LB(sqrt)'] = int(p < alpha)\n",
    "\n",
    "        return row\n",
    "\n",
    "    if n_jobs == 1:\n",
    "        rows = [_one(s) for s in seed_ints]\n",
    "    else:\n",
    "        rows = Parallel(n_jobs=n_jobs, backend=\"loky\", prefer=\"processes\")(\n",
    "            delayed(_one)(s) for s in seed_ints\n",
    "        )\n",
    "\n",
    "    results = pd.DataFrame(rows, columns=[\"EL\",\"LB(5)\",\"LB(10)\",\"LB(15)\",\"LB(sqrt)\"])\n",
    "    return results\n",
    "\n",
    "results = run_simulation()"
   ]
  },
  {
   "cell_type": "markdown",
   "metadata": {},
   "source": [
    "### Empirical Rejection Rates\n",
    "\n",
    "After completing all replications, we calculate the proportion of times each test rejected.  \n",
    "This provides an estimate of the **empirical size** of each test under conditional heteroskedasticity."
   ]
  },
  {
   "cell_type": "code",
   "execution_count": 4,
   "metadata": {},
   "outputs": [
    {
     "data": {
      "text/html": [
       "<div>\n",
       "<style scoped>\n",
       "    .dataframe tbody tr th:only-of-type {\n",
       "        vertical-align: middle;\n",
       "    }\n",
       "\n",
       "    .dataframe tbody tr th {\n",
       "        vertical-align: top;\n",
       "    }\n",
       "\n",
       "    .dataframe thead th {\n",
       "        text-align: right;\n",
       "    }\n",
       "</style>\n",
       "<table border=\"1\" class=\"dataframe\">\n",
       "  <thead>\n",
       "    <tr style=\"text-align: right;\">\n",
       "      <th></th>\n",
       "      <th>empirical_size</th>\n",
       "      <th>n_rep</th>\n",
       "      <th>alpha</th>\n",
       "    </tr>\n",
       "  </thead>\n",
       "  <tbody>\n",
       "    <tr>\n",
       "      <th>EL</th>\n",
       "      <td>0.05220</td>\n",
       "      <td>50000</td>\n",
       "      <td>0.05</td>\n",
       "    </tr>\n",
       "    <tr>\n",
       "      <th>LB(5)</th>\n",
       "      <td>0.08524</td>\n",
       "      <td>50000</td>\n",
       "      <td>0.05</td>\n",
       "    </tr>\n",
       "    <tr>\n",
       "      <th>LB(10)</th>\n",
       "      <td>0.09308</td>\n",
       "      <td>50000</td>\n",
       "      <td>0.05</td>\n",
       "    </tr>\n",
       "    <tr>\n",
       "      <th>LB(15)</th>\n",
       "      <td>0.09608</td>\n",
       "      <td>50000</td>\n",
       "      <td>0.05</td>\n",
       "    </tr>\n",
       "    <tr>\n",
       "      <th>LB(sqrt)</th>\n",
       "      <td>0.08144</td>\n",
       "      <td>50000</td>\n",
       "      <td>0.05</td>\n",
       "    </tr>\n",
       "  </tbody>\n",
       "</table>\n",
       "</div>"
      ],
      "text/plain": [
       "          empirical_size  n_rep  alpha\n",
       "EL               0.05220  50000   0.05\n",
       "LB(5)            0.08524  50000   0.05\n",
       "LB(10)           0.09308  50000   0.05\n",
       "LB(15)           0.09608  50000   0.05\n",
       "LB(sqrt)         0.08144  50000   0.05"
      ]
     },
     "execution_count": 4,
     "metadata": {},
     "output_type": "execute_result"
    }
   ],
   "source": [
    "summary = (\n",
    "    results.mean(numeric_only=True)\n",
    "    .to_frame('empirical_size')\n",
    "    .assign(n_rep=len(results), alpha=0.05)\n",
    ")\n",
    "summary"
   ]
  },
  {
   "cell_type": "markdown",
   "metadata": {},
   "source": [
    "## Visualizing the Results\n",
    "\n",
    "To better illustrate the performance of the tests, we plot a histogram to visualize empirical size (rejection frequency) and include a dashed line at the nominal 5%. \n",
    "This highlights the tendency of LB to over-reject relative to the robust EL test."
   ]
  },
  {
   "cell_type": "code",
   "execution_count": null,
   "metadata": {},
   "outputs": [
    {
     "data": {
      "image/png": "[encoded data removed]",
      "text/plain": [
       "<Figure size 600x400 with 1 Axes>"
      ]
     },
     "metadata": {},
     "output_type": "display_data"
    }
   ],
   "source": [
    "fig, ax = plt.subplots(figsize=(6, 4))\n",
    "results.mean().plot.bar(ax=ax, color=[\"#4c72b0\", \"#dd8452\", \"#55a868\", \"#c44e52\", \"#8172b3\"])\n",
    "ax.axhline(y=0.05, color=\"black\", linestyle=\"--\", linewidth=1)\n",
    "ax.set_ylabel(\"Empirical Rejection Rate\")\n",
    "ax.set_title(\"Empirical Size under GARCH(1,1) Null (α = 5%)\")\n",
    "plt.savefig('el_vs_ljungbox_size.png', bbox_inches=\"tight\")\n",
    "plt.show()\n"
   ]
  },
  {
   "cell_type": "markdown",
   "metadata": {},
   "source": [
    "## Reproducibility\n",
    "\n",
    "To reproduce the results, please note the environment below.  \n",
    "We report Python/platform and key package versions used in this notebook."
   ]
  },
  {
   "cell_type": "code",
   "execution_count": 6,
   "metadata": {},
   "outputs": [
    {
     "name": "stdout",
     "output_type": "stream",
     "text": [
      "Python: 3.13.5 (main, Jun 11 2025, 15:36:57) [Clang 17.0.0 (clang-1700.0.13.3)]\n",
      "Platform: macOS-15.6-arm64-arm-64bit-Mach-O\n",
      "pandas: 2.3.0\n",
      "numpy: 2.3.2\n",
      "matplotlib: 3.10.3\n",
      "statsmodels: 0.14.5\n"
     ]
    }
   ],
   "source": [
    "import sys\n",
    "import platform\n",
    "import importlib\n",
    "\n",
    "pkgs = [\n",
    "    \"pandas\", \"numpy\", \"matplotlib\", \"statsmodels\"\n",
    "]\n",
    "\n",
    "print(\"Python:\", sys.version)\n",
    "print(\"Platform:\", platform.platform())\n",
    "\n",
    "for pkg in pkgs:\n",
    "    try:\n",
    "        mod = importlib.import_module(pkg)\n",
    "        print(f\"{pkg}:\", mod.__version__)\n",
    "    except Exception:\n",
    "        print(f\"{pkg}: not installed\")"
   ]
  }
 ],
 "metadata": {
  "kernelspec": {
   "display_name": "Python (ml)",
   "language": "python",
   "name": "ml"
  },
  "language_info": {
   "codemirror_mode": {
    "name": "ipython",
    "version": 3
   },
   "file_extension": ".py",
   "mimetype": "text/x-python",
   "name": "python",
   "nbconvert_exporter": "python",
   "pygments_lexer": "ipython3",
   "version": "3.13.5"
  }
 },
 "nbformat": 4,
 "nbformat_minor": 2
}
